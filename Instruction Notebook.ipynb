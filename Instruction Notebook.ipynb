{
 "cells": [
  {
   "cell_type": "markdown",
   "id": "documented-monaco",
   "metadata": {},
   "source": [
    "## Conditional Statements"
   ]
  },
  {
   "cell_type": "code",
   "execution_count": 51,
   "id": "rotary-terry",
   "metadata": {},
   "outputs": [
    {
     "name": "stdout",
     "output_type": "stream",
     "text": [
      "Oh no! The driver's asleep! MAYDAY! MAYDAY!\n"
     ]
    }
   ],
   "source": [
    "# Demonstrate conditional statement\n",
    "\n",
    "# if True:\n",
    "#   Do something\n",
    "# else:\n",
    "#   Do something else\n",
    "\n",
    "# Driverless car scenario\n",
    "driverless_car = False\n",
    "\n",
    "if driverless_car == True:\n",
    "    # Do something\n",
    "    print(\"Oh no! The driver's asleep! What do we do?!\")\n",
    "    print()\n",
    "    print(\"All is good. Auto-pilot initiated.\")\n",
    "else:\n",
    "    # Do something else\n",
    "    print(\"Oh no! The driver's asleep! MAYDAY! MAYDAY!\")"
   ]
  },
  {
   "cell_type": "code",
   "execution_count": 40,
   "id": "outside-diversity",
   "metadata": {},
   "outputs": [
    {
     "data": {
      "text/plain": [
       "False"
      ]
     },
     "execution_count": 40,
     "metadata": {},
     "output_type": "execute_result"
    }
   ],
   "source": [
    "driverless_car == True"
   ]
  },
  {
   "cell_type": "code",
   "execution_count": 45,
   "id": "random-sussex",
   "metadata": {},
   "outputs": [
    {
     "name": "stdout",
     "output_type": "stream",
     "text": [
      "Bring an umbrella!\n"
     ]
    }
   ],
   "source": [
    "# Demonstrate conditional with print statement\n",
    "is_raining = 2\n",
    "\n",
    "if is_raining:\n",
    "    print(\"Bring an umbrella!\")\n",
    "else:\n",
    "    print(\"Leave the umbrella at home!\")"
   ]
  },
  {
   "cell_type": "code",
   "execution_count": 3,
   "id": "hollywood-luxury",
   "metadata": {},
   "outputs": [],
   "source": [
    "# Variable values can be established using conditional statements.\n",
    "pedestrian = False\n",
    "\n",
    "if not pedestrian:\n",
    "    immediate_action = \"drive\"\n",
    "else:\n",
    "    immediate_action = \"stop\""
   ]
  },
  {
   "cell_type": "code",
   "execution_count": 47,
   "id": "southeast-warrior",
   "metadata": {},
   "outputs": [],
   "source": [
    "# Conditionals can be use to evaluate equality\n",
    "x = 1\n",
    "if x > 1:\n",
    "    print(\"x is equal to 1\")"
   ]
  },
  {
   "cell_type": "code",
   "execution_count": 48,
   "id": "victorian-biology",
   "metadata": {},
   "outputs": [],
   "source": [
    "y = 5\n",
    "if y == 1:\n",
    "    print(\"x is equal to 1\")"
   ]
  },
  {
   "cell_type": "code",
   "execution_count": 49,
   "id": "parliamentary-treasurer",
   "metadata": {},
   "outputs": [
    {
     "name": "stdout",
     "output_type": "stream",
     "text": [
      "y is not equal to 1\n"
     ]
    }
   ],
   "source": [
    "# Or inequality\n",
    "z = 9\n",
    "if z != 1:\n",
    "    print(\"y is not equal to 1\")"
   ]
  },
  {
   "cell_type": "code",
   "execution_count": 55,
   "id": "quarterly-liability",
   "metadata": {},
   "outputs": [
    {
     "name": "stdout",
     "output_type": "stream",
     "text": [
      "Both values returned True\n"
     ]
    }
   ],
   "source": [
    "# Declare variables and values for evaluation\n",
    "x = 1\n",
    "y = 10\n",
    "\n",
    "# Multiple conditional can be utilized\n",
    "if (x == 1 or y == 11) and y == 10:\n",
    "    print(\"Both values returned True\")"
   ]
  },
  {
   "cell_type": "code",
   "execution_count": 62,
   "id": "numerous-riverside",
   "metadata": {},
   "outputs": [
    {
     "name": "stdout",
     "output_type": "stream",
     "text": [
      "x is less than 10 and y is greater than 5\n"
     ]
    }
   ],
   "source": [
    "# Nested if statements\n",
    "if x < 10:\n",
    "    if y < 5:\n",
    "        print(\"x is less than 10 and y is less than 5\")\n",
    "    elif y == 5:\n",
    "        print(\"x is less than 10 and y is equal to 5\")\n",
    "    else:\n",
    "        print(\"x is less than 10 and y is greater than 5\")"
   ]
  },
  {
   "cell_type": "code",
   "execution_count": 9,
   "id": "previous-arbor",
   "metadata": {},
   "outputs": [
    {
     "name": "stdout",
     "output_type": "stream",
     "text": [
      "Insurance premium will increase. True or False?\n"
     ]
    }
   ],
   "source": [
    "# Nested if statements with insurance premium predictor\n",
    "accident = True\n",
    "at_fault = False\n",
    "accident_forgiveness = True\n",
    "elite_status = True\n",
    "\n",
    "increase_insurance_premium = True\n",
    "\n",
    "print(\"Insurance premium will increase. True or False?\")"
   ]
  },
  {
   "cell_type": "code",
   "execution_count": 65,
   "id": "entitled-mumbai",
   "metadata": {},
   "outputs": [
    {
     "name": "stdout",
     "output_type": "stream",
     "text": [
      "Prediction: False\n"
     ]
    }
   ],
   "source": [
    "# Nested Conditional Statements\n",
    "if accident:\n",
    "    if at_fault and accident_forgiveness:\n",
    "        increase_insurance_premium = False\n",
    "    elif at_fault and not accident_forgiveness and not elite_status:\n",
    "        increase_insurance_premium = True\n",
    "    else:\n",
    "        increase_insurance_premium = False\n",
    "elif not accident and elite_status:\n",
    "    increase_insurance_premium = False\n",
    "else:\n",
    "    increase_insurance_premium = True\n",
    "\n",
    "print(f\"Prediction: {increase_insurance_premium}\")"
   ]
  },
  {
   "cell_type": "markdown",
   "id": "scenic-lewis",
   "metadata": {},
   "source": [
    "## Students Practice Conditionals"
   ]
  },
  {
   "cell_type": "code",
   "execution_count": 67,
   "id": "annual-christian",
   "metadata": {},
   "outputs": [
    {
     "name": "stdout",
     "output_type": "stream",
     "text": [
      "Question 1 works!\n"
     ]
    }
   ],
   "source": [
    "# 1. Output: `Oooo needs some work`\n",
    "x = 5\n",
    "if 2 * x >= 10:\n",
    "    print(\"Question 1 works!\")\n",
    "else:\n",
    "    print(\"Oooo needs some work\")"
   ]
  },
  {
   "cell_type": "code",
   "execution_count": 66,
   "id": "artistic-evans",
   "metadata": {},
   "outputs": [
    {
     "data": {
      "text/plain": [
       "False"
      ]
     },
     "execution_count": 66,
     "metadata": {},
     "output_type": "execute_result"
    }
   ],
   "source": [
    "2 * x > 10"
   ]
  },
  {
   "cell_type": "code",
   "execution_count": 69,
   "id": "prescribed-merchant",
   "metadata": {},
   "outputs": [
    {
     "name": "stdout",
     "output_type": "stream",
     "text": [
      "Question 2 works!\n"
     ]
    }
   ],
   "source": [
    "# 2. Output: `Question 2 works!`\n",
    "x = 5\n",
    "if len(\"Dog\") < len(\"Puppy\"):\n",
    "    print(\"Question 2 works!\")\n",
    "else:\n",
    "    print(\"Still missing out\")"
   ]
  },
  {
   "cell_type": "code",
   "execution_count": 71,
   "id": "medium-stage",
   "metadata": {},
   "outputs": [
    {
     "name": "stdout",
     "output_type": "stream",
     "text": [
      "You are of voting age!\n"
     ]
    }
   ],
   "source": [
    "# 3. Output: `You are of voting age!`\n",
    "age = 18\n",
    "if age > 17:\n",
    "    print(\"You are of voting age!\")\n",
    "else:\n",
    "    print(\"Argggggh! You think you can hoodwink me?! You're too young to vote!\")"
   ]
  },
  {
   "cell_type": "code",
   "execution_count": 72,
   "id": "mysterious-experiment",
   "metadata": {},
   "outputs": [
    {
     "name": "stdout",
     "output_type": "stream",
     "text": [
      "Can ride bumper cars\n"
     ]
    }
   ],
   "source": [
    "# 4. Output: `Can ride bumper cars`\n",
    "height = 66\n",
    "age = 16\n",
    "adult_permission = True\n",
    "\n",
    "if (height > 70) and (age >= 18):\n",
    "    print(\"Can ride all the roller coasters\")\n",
    "elif (height > 65) and (age >= 18):\n",
    "    print(\"Can ride moderate roller coasters\")\n",
    "elif (height > 60) and (age >= 18):\n",
    "    print(\"Can ride light roller coasters\")\n",
    "elif ((height > 50) and (age >= 18)) or ((adult_permission) and (height > 50)):\n",
    "    print(\"Can ride bumper cars\")\n",
    "else:\n",
    "    print(\"Stick to lazy river\")"
   ]
  },
  {
   "cell_type": "code",
   "execution_count": 73,
   "id": "equipped-cutting",
   "metadata": {},
   "outputs": [
    {
     "name": "stdout",
     "output_type": "stream",
     "text": [
      "GOT QUESTION 5!\n"
     ]
    }
   ],
   "source": [
    "# 5. Output: `GOT QUESTION 5!`\n",
    "x = 2\n",
    "y = 5\n",
    "if (x ** 3 >= y) and (y ** 2 < 26):\n",
    "    print(\"GOT QUESTION 5!\")\n",
    "else:\n",
    "    print(\"Oh good you can count\")"
   ]
  },
  {
   "cell_type": "markdown",
   "id": "criminal-change",
   "metadata": {},
   "source": [
    "## Functions"
   ]
  },
  {
   "cell_type": "code",
   "execution_count": 87,
   "id": "governing-johnson",
   "metadata": {},
   "outputs": [
    {
     "name": "stdout",
     "output_type": "stream",
     "text": [
      "Hi! This is the hello function.\n",
      "True is booming right now!\n"
     ]
    }
   ],
   "source": [
    "# Define a hello function and a main function that accepts a string argument\n",
    "def hello():\n",
    "    print(\"Hi! This is the hello function.\")\n",
    "\n",
    "\n",
    "def main(stock_ticker = 'AAPL'):\n",
    "    print(str(stock_ticker) + \" is booming right now!\")\n",
    "\n",
    "\n",
    "# Call the hello and main functions\n",
    "a = hello()\n",
    "main(True)"
   ]
  },
  {
   "cell_type": "code",
   "execution_count": 88,
   "id": "cordless-equilibrium",
   "metadata": {},
   "outputs": [],
   "source": [
    "a"
   ]
  },
  {
   "cell_type": "code",
   "execution_count": 85,
   "id": "honey-hollow",
   "metadata": {},
   "outputs": [
    {
     "name": "stdout",
     "output_type": "stream",
     "text": [
      "SBUX Market Capitalization: 94588216000.0\n",
      "Data type of market_cap variable is: <class 'float'>\n"
     ]
    }
   ],
   "source": [
    "# Define a calculate_market_cap function that returns and integer, and then call it\n",
    "def calculate_market_cap(market_price, number_of_shares):\n",
    "    cap = market_price * number_of_shares\n",
    "\n",
    "    return cap\n",
    "\n",
    "\n",
    "stock_ticker = \"SBUX\"\n",
    "market_price = 76.06\n",
    "number_of_shares = 1243600000\n",
    "\n",
    "market_cap = calculate_market_cap(market_price, number_of_shares)\n",
    "print(f\"{stock_ticker} Market Capitalization: {market_cap}\")\n",
    "print(f\"Data type of market_cap variable is: {type(market_cap)}\")"
   ]
  },
  {
   "cell_type": "code",
   "execution_count": 86,
   "id": "quantitative-garden",
   "metadata": {},
   "outputs": [
    {
     "name": "stdout",
     "output_type": "stream",
     "text": [
      "Market Capitalization: 94588216000.0\n",
      "Data type of market_cap variable is: <class 'float'>\n"
     ]
    }
   ],
   "source": [
    "# Capture function output and print output value and data type\n",
    "def calculate_market_cap(market_price, number_of_shares):\n",
    "    return market_price * number_of_shares\n",
    "\n",
    "\n",
    "market_price = 76.06\n",
    "number_of_shares = 1243600000\n",
    "\n",
    "market_cap = calculate_market_cap(market_price, number_of_shares)\n",
    "print(f\"Market Capitalization: {market_cap}\")\n",
    "print(f\"Data type of market_cap variable is: {type(market_cap)}\")"
   ]
  },
  {
   "cell_type": "markdown",
   "id": "applied-aaron",
   "metadata": {},
   "source": [
    "## Students Practice Functions"
   ]
  },
  {
   "cell_type": "code",
   "execution_count": 92,
   "id": "dying-titanium",
   "metadata": {},
   "outputs": [],
   "source": [
    "## Data\n",
    "new_car_loan = {\n",
    "    \"current_loan_value\": 25000,\n",
    "    \"months_remaining\": 6,\n",
    "    \"annual_interest_rate\": 0.085\n",
    "}"
   ]
  },
  {
   "cell_type": "code",
   "execution_count": 93,
   "id": "liquid-script",
   "metadata": {},
   "outputs": [
    {
     "name": "stdout",
     "output_type": "stream",
     "text": [
      "The cost of the new car is $ 26081.49. and the annual rate is 0.085\n"
     ]
    }
   ],
   "source": [
    "# Calculating the cost of a new car\n",
    "\n",
    "# Use the following future value formula from the dicts.py activity as reference\n",
    "# future_value = current_loan_value * (1 + (annual_interest_rate)) ** months_remaining\n",
    "\n",
    "\n",
    "# Create a function call calculate_future_value.\n",
    "# The function should take in 3 arguments, the current_loan_value, the annual_interest_rate \n",
    "# and the months_remaining.\n",
    "# The function body should contain the future_value formula.\n",
    "# The function should return the future_value.\n",
    "\n",
    "def calculate_future_value(current_loan_value, annual_interest_rate, months_remaining):\n",
    "    future_value = current_loan_value * (1 + (annual_interest_rate / 12)) ** months_remaining\n",
    "    # print(\"fv\", future_value)\n",
    "    return future_value, annual_interest_rate\n",
    "\n",
    "\n",
    "# Call the calculate_future_value function, passing the relevant information \n",
    "# from the new_car_loan dictionary as parameters.\n",
    "# Be sure to set the function call equal to a variable called cost_of_new_car. \n",
    "# Print the cost_of_new_car. Be sure to round the figure to 2 decimal places.\n",
    "\n",
    "cost_of_new_car, interest_rate = calculate_future_value(new_car_loan[\"current_loan_value\"], \n",
    "                                         new_car_loan[\"annual_interest_rate\"], \n",
    "                                         new_car_loan[\"months_remaining\"])\n",
    "\n",
    "print(f\"The cost of the new car is ${cost_of_new_car: .2f}. and the annual rate is {interest_rate}\")"
   ]
  },
  {
   "cell_type": "markdown",
   "id": "warming-outreach",
   "metadata": {},
   "source": [
    "## Loops"
   ]
  },
  {
   "cell_type": "code",
   "execution_count": 104,
   "id": "arctic-elements",
   "metadata": {},
   "outputs": [
    {
     "name": "stdout",
     "output_type": "stream",
     "text": [
      "10\n",
      "7\n",
      "4\n",
      "1\n",
      "-----------------------------------------\n"
     ]
    }
   ],
   "source": [
    "# Iterating over all of the eggs in a carton\n",
    "\n",
    "# for stock in portfolio:\n",
    "# Evaluate performance\n",
    "\n",
    "# Loop through a range of numbers (0 through 4)\n",
    "for x in range(10,0,-3):\n",
    "    print(x)\n",
    "\n",
    "print(\"-----------------------------------------\")"
   ]
  },
  {
   "cell_type": "code",
   "execution_count": 21,
   "id": "controlled-spanking",
   "metadata": {},
   "outputs": [
    {
     "name": "stdout",
     "output_type": "stream",
     "text": [
      "2\n",
      "3\n",
      "4\n",
      "5\n",
      "6\n",
      "----------------------------------------\n"
     ]
    }
   ],
   "source": [
    "# Loop through a range of numbers (2 through 6 - yes 6! Up to, but not including, 7)\n",
    "for x in range(2, 7):\n",
    "    print(x)\n",
    "\n",
    "print(\"----------------------------------------\")"
   ]
  },
  {
   "cell_type": "code",
   "execution_count": 106,
   "id": "underlying-spread",
   "metadata": {},
   "outputs": [
    {
     "name": "stdout",
     "output_type": "stream",
     "text": [
      "F\n",
      "i\n",
      "n\n",
      "T\n",
      "e\n",
      "c\n",
      "h\n",
      " \n",
      "R\n",
      "o\n",
      "c\n",
      "k\n",
      "s\n",
      "!\n",
      "----------------------------------------\n"
     ]
    }
   ],
   "source": [
    "# Iterate through letters in a string\n",
    "word = \"fINtECH rOCKS!\"\n",
    "for letter in word:\n",
    "    print(letter.swapcase())\n",
    "\n",
    "print(\"----------------------------------------\")"
   ]
  },
  {
   "cell_type": "code",
   "execution_count": 107,
   "id": "signal-playback",
   "metadata": {},
   "outputs": [
    {
     "name": "stdout",
     "output_type": "stream",
     "text": [
      "Inside loop: $ 117.95\n",
      "Inside loop: $ 134.95\n",
      "Inside loop: $ 169.95\n",
      "Inside loop: $ 247.77999999999997\n",
      "Inside loop: $ 593.45\n",
      "Inside loop: $ 638.84\n",
      "The total spent on my spending spree was $ 638.84\n",
      "----------------------------------------\n"
     ]
    }
   ],
   "source": [
    "shopping_spree_charges = [117.95, 17, 35, 77.83, 345.67, 45.39]\n",
    "spending_total = 0.00\n",
    "\n",
    "for charge in shopping_spree_charges:\n",
    "    spending_total += charge\n",
    "    print(\"Inside loop: $\", spending_total)\n",
    "\n",
    "print(\"The total spent on my spending spree was $\", round(spending_total, 2))\n",
    "print(\"----------------------------------------\")"
   ]
  },
  {
   "cell_type": "code",
   "execution_count": 108,
   "id": "negative-approval",
   "metadata": {},
   "outputs": [
    {
     "data": {
      "text/plain": [
       "247.77999999999997"
      ]
     },
     "execution_count": 108,
     "metadata": {},
     "output_type": "execute_result"
    }
   ],
   "source": [
    "169.95+77.83"
   ]
  },
  {
   "cell_type": "code",
   "execution_count": 25,
   "id": "disabled-lingerie",
   "metadata": {},
   "outputs": [
    {
     "name": "stdout",
     "output_type": "stream",
     "text": [
      "03-18-2019\n",
      "03-19-2019\n",
      "03-20-2019\n",
      "03-21-2019\n",
      "03-22-2019\n",
      "03-23-2019\n",
      "03-24-2019\n",
      "03-25-2019\n",
      "03-26-2019\n",
      "03-27-2019\n",
      "03-28-2019\n",
      "03-29-2019\n",
      "03-30-2019\n",
      "03-31-2019\n",
      "04-01-2019\n",
      "04-02-2019\n",
      "04-03-2019\n",
      "04-04-2019\n",
      "04-05-2019\n",
      "04-06-2019\n"
     ]
    }
   ],
   "source": [
    "trading_pnl = {\n",
    "    \"03-18-2019\": -224,\n",
    "    \"03-19-2019\": 352,\n",
    "    \"03-20-2019\": 252,\n",
    "    \"03-21-2019\": 354,\n",
    "    \"03-22-2019\": -544,\n",
    "    \"03-23-2019\": -650,\n",
    "    \"03-24-2019\": 56,\n",
    "    \"03-25-2019\": 123,\n",
    "    \"03-26-2019\": -43,\n",
    "    \"03-27-2019\": 254,\n",
    "    \"03-28-2019\": 325,\n",
    "    \"03-29-2019\": -123,\n",
    "    \"03-30-2019\": 47,\n",
    "    \"03-31-2019\": 321,\n",
    "    \"04-01-2019\": 123,\n",
    "    \"04-02-2019\": 133,\n",
    "    \"04-03-2019\": -151,\n",
    "    \"04-04-2019\": 613,\n",
    "    \"04-05-2019\": 232,\n",
    "    \"04-06-2019\": -311\n",
    "}\n",
    "\n",
    "# Print just the keys\n",
    "for key in trading_pnl:\n",
    "    print(key)"
   ]
  },
  {
   "cell_type": "code",
   "execution_count": 26,
   "id": "small-asset",
   "metadata": {},
   "outputs": [
    {
     "name": "stdout",
     "output_type": "stream",
     "text": [
      "-224\n",
      "352\n",
      "252\n",
      "354\n",
      "-544\n",
      "-650\n",
      "56\n",
      "123\n",
      "-43\n",
      "254\n",
      "325\n",
      "-123\n",
      "47\n",
      "321\n",
      "123\n",
      "133\n",
      "-151\n",
      "613\n",
      "232\n",
      "-311\n"
     ]
    }
   ],
   "source": [
    "# Printing the values\n",
    "for key in trading_pnl:\n",
    "    print(trading_pnl[key])"
   ]
  },
  {
   "cell_type": "code",
   "execution_count": 27,
   "id": "casual-resident",
   "metadata": {},
   "outputs": [
    {
     "name": "stdout",
     "output_type": "stream",
     "text": [
      "Inside loop: -224.0\n",
      "Inside loop: 128.0\n",
      "Inside loop: 380.0\n",
      "Inside loop: 734.0\n",
      "Inside loop: 190.0\n",
      "Inside loop: -460.0\n",
      "Inside loop: -404.0\n",
      "Inside loop: -281.0\n",
      "Inside loop: -324.0\n",
      "Inside loop: -70.0\n",
      "Inside loop: 255.0\n",
      "Inside loop: 132.0\n",
      "Inside loop: 179.0\n",
      "Inside loop: 500.0\n",
      "Inside loop: 623.0\n",
      "Inside loop: 756.0\n",
      "Inside loop: 605.0\n",
      "Inside loop: 1218.0\n",
      "Inside loop: 1450.0\n",
      "Inside loop: 1139.0\n",
      "The net pnl for the period was $ 1139.0\n"
     ]
    }
   ],
   "source": [
    "# Calculations using the values\n",
    "net_pnl = 0.00\n",
    "\n",
    "for key in trading_pnl:\n",
    "    net_pnl += trading_pnl[key]\n",
    "    print(\"Inside loop:\", net_pnl)\n",
    "\n",
    "print(\"The net pnl for the period was $\", round(net_pnl, 2))"
   ]
  },
  {
   "cell_type": "code",
   "execution_count": 109,
   "id": "impossible-conditioning",
   "metadata": {},
   "outputs": [
    {
     "name": "stdout",
     "output_type": "stream",
     "text": [
      "On day 03-18-2019 the trading PnL was $(224)\n",
      "On day 03-19-2019 the trading PnL was $352\n",
      "On day 03-20-2019 the trading PnL was $252\n",
      "On day 03-21-2019 the trading PnL was $354\n",
      "On day 03-22-2019 the trading PnL was $(544)\n",
      "On day 03-23-2019 the trading PnL was $(650)\n",
      "On day 03-24-2019 the trading PnL was $56\n",
      "On day 03-25-2019 the trading PnL was $123\n",
      "On day 03-26-2019 the trading PnL was $(43)\n",
      "On day 03-27-2019 the trading PnL was $254\n",
      "On day 03-28-2019 the trading PnL was $325\n",
      "On day 03-29-2019 the trading PnL was $(123)\n",
      "On day 03-30-2019 the trading PnL was $47\n",
      "On day 03-31-2019 the trading PnL was $321\n",
      "On day 04-01-2019 the trading PnL was $123\n",
      "On day 04-02-2019 the trading PnL was $133\n",
      "On day 04-03-2019 the trading PnL was $(151)\n",
      "On day 04-04-2019 the trading PnL was $613\n",
      "On day 04-05-2019 the trading PnL was $232\n",
      "On day 04-06-2019 the trading PnL was $(311)\n",
      "-311\n"
     ]
    }
   ],
   "source": [
    "## Print both\n",
    "for key, value in trading_pnl.items():\n",
    "    if value < 0:\n",
    "        print(f\"On day {key} the trading PnL was $({-1*value})\")\n",
    "    else:\n",
    "        print(f\"On day {key} the trading PnL was ${value}\")\n",
    "        \n",
    "print(value)"
   ]
  },
  {
   "cell_type": "markdown",
   "id": "express-turkish",
   "metadata": {},
   "source": [
    "## Students Practice Loops"
   ]
  },
  {
   "cell_type": "code",
   "execution_count": 33,
   "id": "married-cyprus",
   "metadata": {},
   "outputs": [
    {
     "name": "stdout",
     "output_type": "stream",
     "text": [
      "Total gain_loss 10673.18\n"
     ]
    }
   ],
   "source": [
    "# Loop-De_Loop - Solution\n",
    "\n",
    "# Looping through a List\n",
    "\n",
    "# List of Portfolio gains and losses for the investment period of February, 2019.\n",
    "portfolio_gain_loss_list = [\n",
    "    168.48, 2445.21, 1461.00, -461.98,\n",
    "    -3368.62, 427.03, 193.99, 4443.63,\n",
    "    1132.76, -779.18, 3372.93, 604.64,\n",
    "    703.99, -1249.01, 2156.62, 475.81,\n",
    "    -250.61, -150.43, -653.08\n",
    "]\n",
    "\n",
    "\n",
    "# Using a for loop calculate the total sum of gains and losses for the period. \n",
    "# Print the result rounded to 2 decimal places.\n",
    "\n",
    "sum_list = 0.00\n",
    "\n",
    "for day in portfolio_gain_loss_list:\n",
    "    sum_list += day\n",
    "\n",
    "print(\"Total gain_loss\", round(sum_list, 2))"
   ]
  },
  {
   "cell_type": "code",
   "execution_count": 34,
   "id": "delayed-bunch",
   "metadata": {},
   "outputs": [
    {
     "name": "stdout",
     "output_type": "stream",
     "text": [
      "The number of days in the period was 19\n"
     ]
    }
   ],
   "source": [
    "# Using the len() method determine the number of days in the investment period. \n",
    "# Set that value equal to a variable called `number_of_days`. Print the value.\n",
    "\n",
    "number_of_days = len(portfolio_gain_loss_list)\n",
    "print(\"The number of days in the period was\", number_of_days)"
   ]
  },
  {
   "cell_type": "code",
   "execution_count": 35,
   "id": "working-modem",
   "metadata": {},
   "outputs": [
    {
     "name": "stdout",
     "output_type": "stream",
     "text": [
      "The average gain/loss per day was 561.75\n"
     ]
    }
   ],
   "source": [
    "# Use the sum_list and number_of_days variables to determine the `average_gain_loss_per_day` value. \n",
    "# Print that value, rounding it to 2 decimal places.\n",
    "\n",
    "average_gain_loss_per_day = sum_list / number_of_days\n",
    "\n",
    "print(\"The average gain/loss per day was\", round(average_gain_loss_per_day, 2))"
   ]
  },
  {
   "cell_type": "code",
   "execution_count": 36,
   "id": "rocky-reporter",
   "metadata": {},
   "outputs": [
    {
     "name": "stdout",
     "output_type": "stream",
     "text": [
      "Total gain_loss 10673.18\n"
     ]
    }
   ],
   "source": [
    "# Looping through a dictionary\n",
    "\n",
    "# Dictionary of portfolio gains and losses for the investment period of February, 2019.\n",
    "portfolio_gain_loss_dict = {\n",
    "    \"02-01-2019\": 168.48,\n",
    "    \"02_04-2019\": 2445.21,\n",
    "    \"02-05-2019\": 1461.00,\n",
    "    \"02-06-2019\": -461.98,\n",
    "    \"02-07-2019\": -3368.62,\n",
    "    \"02-08-2019\": 427.03,\n",
    "    \"02-11-2019\": 193.99,\n",
    "    \"02-12-2019\": 4443.63,\n",
    "    \"02-13-2019\": 1132.76,\n",
    "    \"02-14-2019\": -779.18,\n",
    "    \"02-15-2019\": 3372.93,\n",
    "    \"02-19-2019\": 604.64,\n",
    "    \"02-20-2019\": 703.99,\n",
    "    \"02-21-2019\": -1249.01,\n",
    "    \"02-22-2019\": 2156.62,\n",
    "    \"02-25-2019\": 475.81,\n",
    "    \"02-26-2019\": -250.61,\n",
    "    \"02-27-2019\": -150.43,\n",
    "    \"02-28-2019\": -653.08\n",
    "}\n",
    "\n",
    "\n",
    "# Using a for loop calculate the total sum of gains and losses for the period. \n",
    "# Print the result rounded to 2 decimal places.\n",
    "# Hint - This total should match the one calculated from looping through the list.\n",
    "\n",
    "sum_dict = 0.00\n",
    "\n",
    "for key in portfolio_gain_loss_dict:\n",
    "    sum_dict += portfolio_gain_loss_dict[key]\n",
    "\n",
    "print(\"Total gain_loss\", round(sum_dict, 2))"
   ]
  },
  {
   "cell_type": "code",
   "execution_count": 37,
   "id": "hundred-liverpool",
   "metadata": {},
   "outputs": [
    {
     "name": "stdout",
     "output_type": "stream",
     "text": [
      "The biggest gains were: [2445.21, 1461.0, 4443.63, 1132.76, 3372.93, 2156.62]\n",
      "The biggest losses were: [-3368.62, -1249.01]\n"
     ]
    }
   ],
   "source": [
    "#  Conditionally filter the dictionary to find the days with a gain greater than or equal to $1000, \n",
    "# or a loss less than or equal to -$1000. Add these gain or loss VALUES only to the appropriate list. \n",
    "# Print both lists.\n",
    "\n",
    "big_gains = []\n",
    "big_losses = []\n",
    "\n",
    "for key in portfolio_gain_loss_dict:\n",
    "    if portfolio_gain_loss_dict[key] >= 1000:\n",
    "        big_gains.append(portfolio_gain_loss_dict[key])\n",
    "    if portfolio_gain_loss_dict[key] <= -1000:\n",
    "        big_losses.append(portfolio_gain_loss_dict[key])\n",
    "\n",
    "print(\"The biggest gains were:\", big_gains)\n",
    "print(\"The biggest losses were:\", big_losses)"
   ]
  },
  {
   "cell_type": "code",
   "execution_count": 38,
   "id": "collected-chuck",
   "metadata": {},
   "outputs": [
    {
     "name": "stdout",
     "output_type": "stream",
     "text": [
      "The big gains total was 15012.15\n",
      "The big losses total was -4617.63\n"
     ]
    }
   ],
   "source": [
    "# Loop through both lists to determine if the days with the big gains were more \n",
    "# profitable than the days with the big losses\n",
    "\n",
    "total_big_gains = 0.00\n",
    "total_big_losses = 0.00\n",
    "\n",
    "for gain in big_gains:\n",
    "    total_big_gains += gain\n",
    "\n",
    "for loss in big_losses:\n",
    "    total_big_losses += loss\n",
    "\n",
    "print(\"The big gains total was\", round(total_big_gains, 2))\n",
    "print(\"The big losses total was\", round(total_big_losses, 2))"
   ]
  },
  {
   "cell_type": "code",
   "execution_count": null,
   "id": "hairy-harvest",
   "metadata": {},
   "outputs": [],
   "source": []
  }
 ],
 "metadata": {
  "kernelspec": {
   "display_name": "Python 3",
   "language": "python",
   "name": "python3"
  },
  "language_info": {
   "codemirror_mode": {
    "name": "ipython",
    "version": 3
   },
   "file_extension": ".py",
   "mimetype": "text/x-python",
   "name": "python",
   "nbconvert_exporter": "python",
   "pygments_lexer": "ipython3",
   "version": "3.7.9"
  }
 },
 "nbformat": 4,
 "nbformat_minor": 5
}
